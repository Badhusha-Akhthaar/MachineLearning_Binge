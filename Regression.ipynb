{
  "nbformat": 4,
  "nbformat_minor": 0,
  "metadata": {
    "colab": {
      "name": "Regression.ipynb",
      "provenance": [],
      "collapsed_sections": [],
      "toc_visible": true,
      "mount_file_id": "1Hz3XViCV87OkjQ1A7LIWlqc0mRJ4pR5m",
      "authorship_tag": "ABX9TyNQQWXcRw4f++4vLUWgfsaY",
      "include_colab_link": true
    },
    "kernelspec": {
      "name": "python3",
      "display_name": "Python 3"
    }
  },
  "cells": [
    {
      "cell_type": "markdown",
      "metadata": {
        "id": "view-in-github",
        "colab_type": "text"
      },
      "source": [
        "<a href=\"https://colab.research.google.com/github/BarryBadhusha/MachineLearning_Binge/blob/master/Regression.ipynb\" target=\"_parent\"><img src=\"https://colab.research.google.com/assets/colab-badge.svg\" alt=\"Open In Colab\"/></a>"
      ]
    },
    {
      "cell_type": "code",
      "metadata": {
        "id": "EqR_KiW20VmO",
        "colab_type": "code",
        "colab": {}
      },
      "source": [
        "import pandas as pd\n",
        "import numpy as np\n",
        "import matplotlib.pyplot as plt"
      ],
      "execution_count": 0,
      "outputs": []
    },
    {
      "cell_type": "markdown",
      "metadata": {
        "id": "s5dbYoN71-wM",
        "colab_type": "text"
      },
      "source": [
        "**Loading Automobile Dataset**"
      ]
    },
    {
      "cell_type": "code",
      "metadata": {
        "id": "e0---m3W10Ha",
        "colab_type": "code",
        "outputId": "35705f3e-ed5f-45ad-c3ef-448029ab5ca2",
        "colab": {
          "base_uri": "https://localhost:8080/",
          "height": 309
        }
      },
      "source": [
        "path = 'https://s3-api.us-geo.objectstorage.softlayer.net/cf-courses-data/CognitiveClass/DA0101EN/automobileEDA.csv'\n",
        "df = pd.read_csv(path)\n",
        "df.head()"
      ],
      "execution_count": 0,
      "outputs": [
        {
          "output_type": "execute_result",
          "data": {
            "text/html": [
              "<div>\n",
              "<style scoped>\n",
              "    .dataframe tbody tr th:only-of-type {\n",
              "        vertical-align: middle;\n",
              "    }\n",
              "\n",
              "    .dataframe tbody tr th {\n",
              "        vertical-align: top;\n",
              "    }\n",
              "\n",
              "    .dataframe thead th {\n",
              "        text-align: right;\n",
              "    }\n",
              "</style>\n",
              "<table border=\"1\" class=\"dataframe\">\n",
              "  <thead>\n",
              "    <tr style=\"text-align: right;\">\n",
              "      <th></th>\n",
              "      <th>symboling</th>\n",
              "      <th>normalized-losses</th>\n",
              "      <th>make</th>\n",
              "      <th>aspiration</th>\n",
              "      <th>num-of-doors</th>\n",
              "      <th>body-style</th>\n",
              "      <th>drive-wheels</th>\n",
              "      <th>engine-location</th>\n",
              "      <th>wheel-base</th>\n",
              "      <th>length</th>\n",
              "      <th>width</th>\n",
              "      <th>height</th>\n",
              "      <th>curb-weight</th>\n",
              "      <th>engine-type</th>\n",
              "      <th>num-of-cylinders</th>\n",
              "      <th>engine-size</th>\n",
              "      <th>fuel-system</th>\n",
              "      <th>bore</th>\n",
              "      <th>stroke</th>\n",
              "      <th>compression-ratio</th>\n",
              "      <th>horsepower</th>\n",
              "      <th>peak-rpm</th>\n",
              "      <th>city-mpg</th>\n",
              "      <th>highway-mpg</th>\n",
              "      <th>price</th>\n",
              "      <th>city-L/100km</th>\n",
              "      <th>horsepower-binned</th>\n",
              "      <th>diesel</th>\n",
              "      <th>gas</th>\n",
              "    </tr>\n",
              "  </thead>\n",
              "  <tbody>\n",
              "    <tr>\n",
              "      <th>0</th>\n",
              "      <td>3</td>\n",
              "      <td>122</td>\n",
              "      <td>alfa-romero</td>\n",
              "      <td>std</td>\n",
              "      <td>two</td>\n",
              "      <td>convertible</td>\n",
              "      <td>rwd</td>\n",
              "      <td>front</td>\n",
              "      <td>88.6</td>\n",
              "      <td>0.811148</td>\n",
              "      <td>0.890278</td>\n",
              "      <td>48.8</td>\n",
              "      <td>2548</td>\n",
              "      <td>dohc</td>\n",
              "      <td>four</td>\n",
              "      <td>130</td>\n",
              "      <td>mpfi</td>\n",
              "      <td>3.47</td>\n",
              "      <td>2.68</td>\n",
              "      <td>9.0</td>\n",
              "      <td>111.0</td>\n",
              "      <td>5000.0</td>\n",
              "      <td>21</td>\n",
              "      <td>27</td>\n",
              "      <td>13495.0</td>\n",
              "      <td>11.190476</td>\n",
              "      <td>Medium</td>\n",
              "      <td>0</td>\n",
              "      <td>1</td>\n",
              "    </tr>\n",
              "    <tr>\n",
              "      <th>1</th>\n",
              "      <td>3</td>\n",
              "      <td>122</td>\n",
              "      <td>alfa-romero</td>\n",
              "      <td>std</td>\n",
              "      <td>two</td>\n",
              "      <td>convertible</td>\n",
              "      <td>rwd</td>\n",
              "      <td>front</td>\n",
              "      <td>88.6</td>\n",
              "      <td>0.811148</td>\n",
              "      <td>0.890278</td>\n",
              "      <td>48.8</td>\n",
              "      <td>2548</td>\n",
              "      <td>dohc</td>\n",
              "      <td>four</td>\n",
              "      <td>130</td>\n",
              "      <td>mpfi</td>\n",
              "      <td>3.47</td>\n",
              "      <td>2.68</td>\n",
              "      <td>9.0</td>\n",
              "      <td>111.0</td>\n",
              "      <td>5000.0</td>\n",
              "      <td>21</td>\n",
              "      <td>27</td>\n",
              "      <td>16500.0</td>\n",
              "      <td>11.190476</td>\n",
              "      <td>Medium</td>\n",
              "      <td>0</td>\n",
              "      <td>1</td>\n",
              "    </tr>\n",
              "    <tr>\n",
              "      <th>2</th>\n",
              "      <td>1</td>\n",
              "      <td>122</td>\n",
              "      <td>alfa-romero</td>\n",
              "      <td>std</td>\n",
              "      <td>two</td>\n",
              "      <td>hatchback</td>\n",
              "      <td>rwd</td>\n",
              "      <td>front</td>\n",
              "      <td>94.5</td>\n",
              "      <td>0.822681</td>\n",
              "      <td>0.909722</td>\n",
              "      <td>52.4</td>\n",
              "      <td>2823</td>\n",
              "      <td>ohcv</td>\n",
              "      <td>six</td>\n",
              "      <td>152</td>\n",
              "      <td>mpfi</td>\n",
              "      <td>2.68</td>\n",
              "      <td>3.47</td>\n",
              "      <td>9.0</td>\n",
              "      <td>154.0</td>\n",
              "      <td>5000.0</td>\n",
              "      <td>19</td>\n",
              "      <td>26</td>\n",
              "      <td>16500.0</td>\n",
              "      <td>12.368421</td>\n",
              "      <td>Medium</td>\n",
              "      <td>0</td>\n",
              "      <td>1</td>\n",
              "    </tr>\n",
              "    <tr>\n",
              "      <th>3</th>\n",
              "      <td>2</td>\n",
              "      <td>164</td>\n",
              "      <td>audi</td>\n",
              "      <td>std</td>\n",
              "      <td>four</td>\n",
              "      <td>sedan</td>\n",
              "      <td>fwd</td>\n",
              "      <td>front</td>\n",
              "      <td>99.8</td>\n",
              "      <td>0.848630</td>\n",
              "      <td>0.919444</td>\n",
              "      <td>54.3</td>\n",
              "      <td>2337</td>\n",
              "      <td>ohc</td>\n",
              "      <td>four</td>\n",
              "      <td>109</td>\n",
              "      <td>mpfi</td>\n",
              "      <td>3.19</td>\n",
              "      <td>3.40</td>\n",
              "      <td>10.0</td>\n",
              "      <td>102.0</td>\n",
              "      <td>5500.0</td>\n",
              "      <td>24</td>\n",
              "      <td>30</td>\n",
              "      <td>13950.0</td>\n",
              "      <td>9.791667</td>\n",
              "      <td>Medium</td>\n",
              "      <td>0</td>\n",
              "      <td>1</td>\n",
              "    </tr>\n",
              "    <tr>\n",
              "      <th>4</th>\n",
              "      <td>2</td>\n",
              "      <td>164</td>\n",
              "      <td>audi</td>\n",
              "      <td>std</td>\n",
              "      <td>four</td>\n",
              "      <td>sedan</td>\n",
              "      <td>4wd</td>\n",
              "      <td>front</td>\n",
              "      <td>99.4</td>\n",
              "      <td>0.848630</td>\n",
              "      <td>0.922222</td>\n",
              "      <td>54.3</td>\n",
              "      <td>2824</td>\n",
              "      <td>ohc</td>\n",
              "      <td>five</td>\n",
              "      <td>136</td>\n",
              "      <td>mpfi</td>\n",
              "      <td>3.19</td>\n",
              "      <td>3.40</td>\n",
              "      <td>8.0</td>\n",
              "      <td>115.0</td>\n",
              "      <td>5500.0</td>\n",
              "      <td>18</td>\n",
              "      <td>22</td>\n",
              "      <td>17450.0</td>\n",
              "      <td>13.055556</td>\n",
              "      <td>Medium</td>\n",
              "      <td>0</td>\n",
              "      <td>1</td>\n",
              "    </tr>\n",
              "  </tbody>\n",
              "</table>\n",
              "</div>"
            ],
            "text/plain": [
              "   symboling  normalized-losses         make  ... horsepower-binned diesel gas\n",
              "0          3                122  alfa-romero  ...            Medium      0   1\n",
              "1          3                122  alfa-romero  ...            Medium      0   1\n",
              "2          1                122  alfa-romero  ...            Medium      0   1\n",
              "3          2                164         audi  ...            Medium      0   1\n",
              "4          2                164         audi  ...            Medium      0   1\n",
              "\n",
              "[5 rows x 29 columns]"
            ]
          },
          "metadata": {
            "tags": []
          },
          "execution_count": 2
        }
      ]
    },
    {
      "cell_type": "markdown",
      "metadata": {
        "id": "oQstbsUT2mOl",
        "colab_type": "text"
      },
      "source": [
        "**Simple Linear Regression**\n",
        "\n",
        "Formulae :  Y= mX + c\n",
        "\n",
        "**Y** => *Dependent Variable*\n",
        "\n",
        "**X** => *Independent Variable*\n",
        "\n",
        "**c** => *Intercept*\n",
        "\n",
        "**m** => *Co-efficient*"
      ]
    },
    {
      "cell_type": "code",
      "metadata": {
        "id": "4Tx7a0u72ulW",
        "colab_type": "code",
        "colab": {}
      },
      "source": [
        "from sklearn.linear_model import LinearRegression\n",
        "from sklearn.model_selection import train_test_split "
      ],
      "execution_count": 0,
      "outputs": []
    },
    {
      "cell_type": "code",
      "metadata": {
        "id": "VVl0jGxt4Ddc",
        "colab_type": "code",
        "outputId": "b9ce5ed1-a7d3-4170-b403-1d0aef9b1601",
        "colab": {
          "base_uri": "https://localhost:8080/",
          "height": 35
        }
      },
      "source": [
        "regressor = LinearRegression()\n",
        "X = df[['highway-mpg']]\n",
        "Y = df['price']\n",
        "regressor.fit(X,Y)\n",
        "# X_train,X_test,Y_train,Y_test = train_test_split(X,Y,test_size = 0.1,random_state = 0)\n"
      ],
      "execution_count": 0,
      "outputs": [
        {
          "output_type": "execute_result",
          "data": {
            "text/plain": [
              "LinearRegression(copy_X=True, fit_intercept=True, n_jobs=None, normalize=False)"
            ]
          },
          "metadata": {
            "tags": []
          },
          "execution_count": 5
        }
      ]
    },
    {
      "cell_type": "code",
      "metadata": {
        "id": "_l6PG8u14z3v",
        "colab_type": "code",
        "colab": {}
      },
      "source": [
        "Y_ = regressor.predict(X)\n"
      ],
      "execution_count": 0,
      "outputs": []
    },
    {
      "cell_type": "code",
      "metadata": {
        "id": "o7RRFsgN7SI-",
        "colab_type": "code",
        "outputId": "e5008d32-bad4-4d17-ea36-b210ebc2d5dc",
        "colab": {
          "base_uri": "https://localhost:8080/",
          "height": 35
        }
      },
      "source": [
        "regressor.intercept_ ##Intercept value after training"
      ],
      "execution_count": 0,
      "outputs": [
        {
          "output_type": "execute_result",
          "data": {
            "text/plain": [
              "38423.3058581574"
            ]
          },
          "metadata": {
            "tags": []
          },
          "execution_count": 9
        }
      ]
    },
    {
      "cell_type": "code",
      "metadata": {
        "id": "pHCqfuqM7dyw",
        "colab_type": "code",
        "outputId": "92c4ea55-3bc1-4ab5-ec81-0d97e5964f92",
        "colab": {
          "base_uri": "https://localhost:8080/",
          "height": 35
        }
      },
      "source": [
        "regressor.coef_ ##Coefficient value after training"
      ],
      "execution_count": 0,
      "outputs": [
        {
          "output_type": "execute_result",
          "data": {
            "text/plain": [
              "array([-821.73337832])"
            ]
          },
          "metadata": {
            "tags": []
          },
          "execution_count": 10
        }
      ]
    },
    {
      "cell_type": "markdown",
      "metadata": {
        "id": "yZH4Q3i37n4M",
        "colab_type": "text"
      },
      "source": [
        "Now the function can be rephrased as \n",
        "\n",
        "***price = 38423.30 + ( - 821.733 ) * highway-mpg***"
      ]
    },
    {
      "cell_type": "code",
      "metadata": {
        "id": "FKBA8WPk8Dnl",
        "colab_type": "code",
        "outputId": "b56df1d8-6b00-4f0a-ca1c-40d9eaca382f",
        "colab": {
          "base_uri": "https://localhost:8080/",
          "height": 72
        }
      },
      "source": [
        "import seaborn as sns"
      ],
      "execution_count": 0,
      "outputs": [
        {
          "output_type": "stream",
          "text": [
            "/usr/local/lib/python3.6/dist-packages/statsmodels/tools/_testing.py:19: FutureWarning: pandas.util.testing is deprecated. Use the functions in the public API at pandas.testing instead.\n",
            "  import pandas.util.testing as tm\n"
          ],
          "name": "stderr"
        }
      ]
    },
    {
      "cell_type": "code",
      "metadata": {
        "id": "JA2nHLFK8KCa",
        "colab_type": "code",
        "outputId": "4cf73715-8bf6-486d-8ebc-6a38f0c07afd",
        "colab": {
          "base_uri": "https://localhost:8080/",
          "height": 453
        }
      },
      "source": [
        "plt.figure(figsize=(5,7))\n",
        "ax = sns.distplot(df['price'],color='y',label='Actual Values',hist=False)\n",
        "sns.distplot(Y_,color='g',label='Predicted values',ax=ax,hist=False)\n",
        "plt.show()\n",
        "plt.close()"
      ],
      "execution_count": 0,
      "outputs": [
        {
          "output_type": "display_data",
          "data": {
            "image/png": "[encoded data removed]",
            "text/plain": [
              "<Figure size 360x504 with 1 Axes>"
            ]
          },
          "metadata": {
            "tags": [],
            "needs_background": "light"
          }
        }
      ]
    },
    {
      "cell_type": "markdown",
      "metadata": {
        "id": "s_ykIVUL_cgd",
        "colab_type": "text"
      },
      "source": [
        "**Finding out which feature has more correlation with price**"
      ]
    },
    {
      "cell_type": "code",
      "metadata": {
        "id": "AwLiQpFP_mfm",
        "colab_type": "code",
        "outputId": "2b44d1cd-2a3a-483f-861f-3bcdaaed8af8",
        "colab": {
          "base_uri": "https://localhost:8080/",
          "height": 359
        }
      },
      "source": [
        "df[['price','highway-mpg','city-mpg','horsepower','compression-ratio','city-L/100km','wheel-base','engine-size','stroke']].corr()"
      ],
      "execution_count": 0,
      "outputs": [
        {
          "output_type": "execute_result",
          "data": {
            "text/html": [
              "<div>\n",
              "<style scoped>\n",
              "    .dataframe tbody tr th:only-of-type {\n",
              "        vertical-align: middle;\n",
              "    }\n",
              "\n",
              "    .dataframe tbody tr th {\n",
              "        vertical-align: top;\n",
              "    }\n",
              "\n",
              "    .dataframe thead th {\n",
              "        text-align: right;\n",
              "    }\n",
              "</style>\n",
              "<table border=\"1\" class=\"dataframe\">\n",
              "  <thead>\n",
              "    <tr style=\"text-align: right;\">\n",
              "      <th></th>\n",
              "      <th>price</th>\n",
              "      <th>highway-mpg</th>\n",
              "      <th>city-mpg</th>\n",
              "      <th>horsepower</th>\n",
              "      <th>compression-ratio</th>\n",
              "      <th>city-L/100km</th>\n",
              "      <th>wheel-base</th>\n",
              "      <th>engine-size</th>\n",
              "      <th>stroke</th>\n",
              "    </tr>\n",
              "  </thead>\n",
              "  <tbody>\n",
              "    <tr>\n",
              "      <th>price</th>\n",
              "      <td>1.000000</td>\n",
              "      <td>-0.704692</td>\n",
              "      <td>-0.686571</td>\n",
              "      <td>0.809575</td>\n",
              "      <td>0.071107</td>\n",
              "      <td>0.789898</td>\n",
              "      <td>0.584642</td>\n",
              "      <td>0.872335</td>\n",
              "      <td>0.082310</td>\n",
              "    </tr>\n",
              "    <tr>\n",
              "      <th>highway-mpg</th>\n",
              "      <td>-0.704692</td>\n",
              "      <td>1.000000</td>\n",
              "      <td>0.972044</td>\n",
              "      <td>-0.804575</td>\n",
              "      <td>0.268465</td>\n",
              "      <td>-0.930028</td>\n",
              "      <td>-0.543304</td>\n",
              "      <td>-0.679571</td>\n",
              "      <td>-0.035201</td>\n",
              "    </tr>\n",
              "    <tr>\n",
              "      <th>city-mpg</th>\n",
              "      <td>-0.686571</td>\n",
              "      <td>0.972044</td>\n",
              "      <td>1.000000</td>\n",
              "      <td>-0.822214</td>\n",
              "      <td>0.331425</td>\n",
              "      <td>-0.949713</td>\n",
              "      <td>-0.470606</td>\n",
              "      <td>-0.650546</td>\n",
              "      <td>-0.034696</td>\n",
              "    </tr>\n",
              "    <tr>\n",
              "      <th>horsepower</th>\n",
              "      <td>0.809575</td>\n",
              "      <td>-0.804575</td>\n",
              "      <td>-0.822214</td>\n",
              "      <td>1.000000</td>\n",
              "      <td>-0.214514</td>\n",
              "      <td>0.889488</td>\n",
              "      <td>0.371147</td>\n",
              "      <td>0.822676</td>\n",
              "      <td>0.098462</td>\n",
              "    </tr>\n",
              "    <tr>\n",
              "      <th>compression-ratio</th>\n",
              "      <td>0.071107</td>\n",
              "      <td>0.268465</td>\n",
              "      <td>0.331425</td>\n",
              "      <td>-0.214514</td>\n",
              "      <td>1.000000</td>\n",
              "      <td>-0.299372</td>\n",
              "      <td>0.250313</td>\n",
              "      <td>0.028889</td>\n",
              "      <td>0.187923</td>\n",
              "    </tr>\n",
              "    <tr>\n",
              "      <th>city-L/100km</th>\n",
              "      <td>0.789898</td>\n",
              "      <td>-0.930028</td>\n",
              "      <td>-0.949713</td>\n",
              "      <td>0.889488</td>\n",
              "      <td>-0.299372</td>\n",
              "      <td>1.000000</td>\n",
              "      <td>0.476153</td>\n",
              "      <td>0.745059</td>\n",
              "      <td>0.037300</td>\n",
              "    </tr>\n",
              "    <tr>\n",
              "      <th>wheel-base</th>\n",
              "      <td>0.584642</td>\n",
              "      <td>-0.543304</td>\n",
              "      <td>-0.470606</td>\n",
              "      <td>0.371147</td>\n",
              "      <td>0.250313</td>\n",
              "      <td>0.476153</td>\n",
              "      <td>1.000000</td>\n",
              "      <td>0.572027</td>\n",
              "      <td>0.158502</td>\n",
              "    </tr>\n",
              "    <tr>\n",
              "      <th>engine-size</th>\n",
              "      <td>0.872335</td>\n",
              "      <td>-0.679571</td>\n",
              "      <td>-0.650546</td>\n",
              "      <td>0.822676</td>\n",
              "      <td>0.028889</td>\n",
              "      <td>0.745059</td>\n",
              "      <td>0.572027</td>\n",
              "      <td>1.000000</td>\n",
              "      <td>0.209523</td>\n",
              "    </tr>\n",
              "    <tr>\n",
              "      <th>stroke</th>\n",
              "      <td>0.082310</td>\n",
              "      <td>-0.035201</td>\n",
              "      <td>-0.034696</td>\n",
              "      <td>0.098462</td>\n",
              "      <td>0.187923</td>\n",
              "      <td>0.037300</td>\n",
              "      <td>0.158502</td>\n",
              "      <td>0.209523</td>\n",
              "      <td>1.000000</td>\n",
              "    </tr>\n",
              "  </tbody>\n",
              "</table>\n",
              "</div>"
            ],
            "text/plain": [
              "                      price  highway-mpg  ...  engine-size    stroke\n",
              "price              1.000000    -0.704692  ...     0.872335  0.082310\n",
              "highway-mpg       -0.704692     1.000000  ...    -0.679571 -0.035201\n",
              "city-mpg          -0.686571     0.972044  ...    -0.650546 -0.034696\n",
              "horsepower         0.809575    -0.804575  ...     0.822676  0.098462\n",
              "compression-ratio  0.071107     0.268465  ...     0.028889  0.187923\n",
              "city-L/100km       0.789898    -0.930028  ...     0.745059  0.037300\n",
              "wheel-base         0.584642    -0.543304  ...     0.572027  0.158502\n",
              "engine-size        0.872335    -0.679571  ...     1.000000  0.209523\n",
              "stroke             0.082310    -0.035201  ...     0.209523  1.000000\n",
              "\n",
              "[9 rows x 9 columns]"
            ]
          },
          "metadata": {
            "tags": []
          },
          "execution_count": 23
        }
      ]
    },
    {
      "cell_type": "markdown",
      "metadata": {
        "id": "tPuJAfzCBBYW",
        "colab_type": "text"
      },
      "source": [
        "As from above observation, among all features **engine-size** and **horsepower** have more corellation with price.  So will train the mode using these features."
      ]
    },
    {
      "cell_type": "code",
      "metadata": {
        "id": "ui49VToCBPTu",
        "colab_type": "code",
        "outputId": "4bf23065-46c8-431d-854f-dfb9cdc66a75",
        "colab": {
          "base_uri": "https://localhost:8080/",
          "height": 35
        }
      },
      "source": [
        "regressor_es = LinearRegression() #Regression Object for Engine Size\n",
        "X_e = df[['engine-size']]\n",
        "Y_e = df['price']\n",
        "regressor_es.fit(X_e,Y_e)"
      ],
      "execution_count": 0,
      "outputs": [
        {
          "output_type": "execute_result",
          "data": {
            "text/plain": [
              "LinearRegression(copy_X=True, fit_intercept=True, n_jobs=None, normalize=False)"
            ]
          },
          "metadata": {
            "tags": []
          },
          "execution_count": 38
        }
      ]
    },
    {
      "cell_type": "code",
      "metadata": {
        "id": "9d5WTmHeCHIw",
        "colab_type": "code",
        "colab": {}
      },
      "source": [
        "Y_es = regressor_es.predict(X_e)"
      ],
      "execution_count": 0,
      "outputs": []
    },
    {
      "cell_type": "code",
      "metadata": {
        "id": "JR_D5IOoCTPB",
        "colab_type": "code",
        "outputId": "f2eb9ab9-4092-4451-a53d-5a78e388ae71",
        "colab": {
          "base_uri": "https://localhost:8080/",
          "height": 35
        }
      },
      "source": [
        "regressor_es.intercept_"
      ],
      "execution_count": 0,
      "outputs": [
        {
          "output_type": "execute_result",
          "data": {
            "text/plain": [
              "-7963.338906281042"
            ]
          },
          "metadata": {
            "tags": []
          },
          "execution_count": 40
        }
      ]
    },
    {
      "cell_type": "code",
      "metadata": {
        "id": "SssptUP_CcoI",
        "colab_type": "code",
        "outputId": "20ec6f20-9649-43c0-8e71-9cc9233e1813",
        "colab": {
          "base_uri": "https://localhost:8080/",
          "height": 35
        }
      },
      "source": [
        "regressor_es.coef_"
      ],
      "execution_count": 0,
      "outputs": [
        {
          "output_type": "execute_result",
          "data": {
            "text/plain": [
              "array([166.86001569])"
            ]
          },
          "metadata": {
            "tags": []
          },
          "execution_count": 41
        }
      ]
    },
    {
      "cell_type": "code",
      "metadata": {
        "id": "5_wvvJOACgUx",
        "colab_type": "code",
        "outputId": "401c4d1a-38a1-457f-9be5-39af036cde85",
        "colab": {
          "base_uri": "https://localhost:8080/",
          "height": 453
        }
      },
      "source": [
        "plt.figure(figsize=(5,7))\n",
        "ax_es = sns.distplot(df['price'],color='y',label='Actual Values',hist=False)\n",
        "sns.distplot(Y_es,color='g',label='Predicted values',ax=ax_es,hist=False)\n",
        "plt.show()\n",
        "plt.close()"
      ],
      "execution_count": 0,
      "outputs": [
        {
          "output_type": "display_data",
          "data": {
            "image/png": "[encoded data removed]",
            "text/plain": [
              "<Figure size 360x504 with 1 Axes>"
            ]
          },
          "metadata": {
            "tags": [],
            "needs_background": "light"
          }
        }
      ]
    },
    {
      "cell_type": "markdown",
      "metadata": {
        "id": "Y0pgun_YK0J_",
        "colab_type": "text"
      },
      "source": [
        "**Multiple Linear Regression**"
      ]
    },
    {
      "cell_type": "code",
      "metadata": {
        "id": "7qEgkyjIK4uz",
        "colab_type": "code",
        "colab": {}
      },
      "source": [
        "X_multi = df[['highway-mpg','city-mpg','horsepower','city-L/100km','engine-size','curb-weight','peak-rpm']]\n",
        "Y_multi = df['price']"
      ],
      "execution_count": 0,
      "outputs": []
    },
    {
      "cell_type": "code",
      "metadata": {
        "id": "ifkfZ1uvLm6E",
        "colab_type": "code",
        "outputId": "64f381d8-fa97-4963-9c3d-6d7a20ff34e1",
        "colab": {
          "base_uri": "https://localhost:8080/",
          "height": 35
        }
      },
      "source": [
        "regressor_multi = LinearRegression()\n",
        "regressor_multi.fit(X_multi,Y_multi)"
      ],
      "execution_count": 0,
      "outputs": [
        {
          "output_type": "execute_result",
          "data": {
            "text/plain": [
              "LinearRegression(copy_X=True, fit_intercept=True, n_jobs=None, normalize=False)"
            ]
          },
          "metadata": {
            "tags": []
          },
          "execution_count": 33
        }
      ]
    },
    {
      "cell_type": "code",
      "metadata": {
        "id": "NkOxAmfiL02-",
        "colab_type": "code",
        "outputId": "2f90f411-f42e-48d4-a07d-7c0c4f49127d",
        "colab": {
          "base_uri": "https://localhost:8080/",
          "height": 52
        }
      },
      "source": [
        "regressor_multi.coef_"
      ],
      "execution_count": 0,
      "outputs": [
        {
          "output_type": "execute_result",
          "data": {
            "text/plain": [
              "array([1.35346677e+02, 3.68685620e+02, 5.02711848e+00, 1.68814066e+03,\n",
              "       8.49744641e+01, 5.48101855e+00, 1.46909453e+00])"
            ]
          },
          "metadata": {
            "tags": []
          },
          "execution_count": 34
        }
      ]
    },
    {
      "cell_type": "code",
      "metadata": {
        "id": "qqHX-7pvL_TZ",
        "colab_type": "code",
        "outputId": "2d934789-4193-4884-c325-19af55ebb18d",
        "colab": {
          "base_uri": "https://localhost:8080/",
          "height": 35
        }
      },
      "source": [
        "regressor_multi.intercept_"
      ],
      "execution_count": 0,
      "outputs": [
        {
          "output_type": "execute_result",
          "data": {
            "text/plain": [
              "-49843.49602028663"
            ]
          },
          "metadata": {
            "tags": []
          },
          "execution_count": 35
        }
      ]
    },
    {
      "cell_type": "code",
      "metadata": {
        "id": "krF8z7JxMFTo",
        "colab_type": "code",
        "outputId": "e8cbeb64-9aa3-42a7-e73d-a45f651a8ada",
        "colab": {
          "base_uri": "https://localhost:8080/",
          "height": 453
        }
      },
      "source": [
        "Y_multi_predict = regressor_multi.predict(X_multi)\n",
        "plt.figure(figsize=(5,7))\n",
        "ax_multi = sns.distplot(df['price'],color='y',label='Actual Values',hist=False)\n",
        "sns.distplot(Y_multi_predict,color='g',label='Predicted values',ax=ax_multi,hist=False)\n",
        "plt.show()\n",
        "plt.close()\n"
      ],
      "execution_count": 0,
      "outputs": [
        {
          "output_type": "display_data",
          "data": {
            "image/png": "[encoded data removed]",
            "text/plain": [
              "<Figure size 360x504 with 1 Axes>"
            ]
          },
          "metadata": {
            "tags": [],
            "needs_background": "light"
          }
        }
      ]
    },
    {
      "cell_type": "markdown",
      "metadata": {
        "id": "JJOrWj06ToPG",
        "colab_type": "text"
      },
      "source": [
        "Plot between **engine-size** and **price** to check the linearity of data."
      ]
    },
    {
      "cell_type": "code",
      "metadata": {
        "id": "b_Dx6J5iTyKE",
        "colab_type": "code",
        "outputId": "3f003be8-bce7-476f-b3fd-75492e2670c6",
        "colab": {
          "base_uri": "https://localhost:8080/",
          "height": 295
        }
      },
      "source": [
        "plt.scatter(X_e,df['price'],color='y')\n",
        "plt.plot(X_e,Y_es,color='g')\n",
        "plt.xlabel('Engine-size')\n",
        "plt.ylabel('Price')\n",
        "plt.title('Engine-size vs Price')\n",
        "plt.show()\n",
        "plt.close()\n"
      ],
      "execution_count": 0,
      "outputs": [
        {
          "output_type": "display_data",
          "data": {
            "image/png": "[encoded data removed]",
            "text/plain": [
              "<Figure size 432x288 with 1 Axes>"
            ]
          },
          "metadata": {
            "tags": [],
            "needs_background": "light"
          }
        }
      ]
    },
    {
      "cell_type": "code",
      "metadata": {
        "id": "JoPGtzktklDL",
        "colab_type": "code",
        "outputId": "420e1bed-8e7d-4268-a0ad-a934b2817ffc",
        "colab": {
          "base_uri": "https://localhost:8080/",
          "height": 486
        }
      },
      "source": [
        "df_barplot = pd.DataFrame({'Actual':df['price'],'Predict':Y_multi_predict})\n",
        "df_barplot = df_barplot.head(25)\n",
        "df_barplot.plot(kind='bar',figsize=(10,8),)\n",
        "plt.grid(which='major', linestyle='-', linewidth='0.5', color='green')\n",
        "plt.grid(which='minor', linestyle=':', linewidth='0.5', color='black')\n",
        "plt.show()"
      ],
      "execution_count": 0,
      "outputs": [
        {
          "output_type": "display_data",
          "data": {
            "image/png": "[encoded data removed]",
            "text/plain": [
              "<Figure size 720x576 with 1 Axes>"
            ]
          },
          "metadata": {
            "tags": [],
            "needs_background": "light"
          }
        }
      ]
    }
  ]
}